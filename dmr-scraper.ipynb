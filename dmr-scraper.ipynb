{
 "cells": [
  {
   "cell_type": "code",
   "execution_count": 68,
   "metadata": {
    "collapsed": true
   },
   "outputs": [],
   "source": [
    "import pandas as pd\n",
    "import requests\n",
    "import time"
   ]
  },
  {
   "cell_type": "markdown",
   "metadata": {},
   "source": [
    "XMin: -904703.61\n",
    "\n",
    "YMin: -1211710.38\n",
    "\n",
    "XMax: -614999.61\n",
    "\n",
    "YMax: -934000.3799999999\n",
    "    \n",
    "X, Y pixel size: 2.0\n",
    "\n",
    "max img size: 4096"
   ]
  },
  {
   "cell_type": "code",
   "execution_count": 64,
   "metadata": {
    "collapsed": false
   },
   "outputs": [],
   "source": [
    "#generator extentu\n",
    "extenty = {}\n",
    "fid = 0\n",
    "\n",
    "for x in range(-904702, -615, int(4096 * 2)):\n",
    "    for y in range(-1211710, -934001, int(4096 * 2)):\n",
    "        fid += 1\n",
    "        extenty[fid] = {'xmin': x, 'ymin': y}\n",
    "        \n",
    "extframe = pd.DataFrame.from_dict(extenty, orient='index')"
   ]
  },
  {
   "cell_type": "code",
   "execution_count": 71,
   "metadata": {
    "collapsed": false
   },
   "outputs": [],
   "source": [
    "#extframe.to_csv('data/extenty.csv', encoding='utf-8')"
   ]
  },
  {
   "cell_type": "code",
   "execution_count": 70,
   "metadata": {
    "collapsed": false
   },
   "outputs": [
    {
     "name": "stdout",
     "output_type": "stream",
     "text": [
      "505 83.081130027771\n",
      "506 133.42831802368164\n"
     ]
    }
   ],
   "source": [
    "url = 'http://ags.cuzk.cz/arcgis/rest/services/dmr5g/ImageServer/exportImage?bbox={0}%2C{1}%2C{2}%2C{3}&size=4096%2C4096&format=tiff&transparent=true&pixelType=F32&noDataInterpretation=esriNoDataMatchAny&interpolation=+RSP_BilinearInterpolation&f=json'\n",
    "\n",
    "for row in extframe.iterrows():\n",
    "    if ((row[0] < 505) | (row[0] > 506)):\n",
    "        continue\n",
    "    else:\n",
    "        start_time = time.time()\n",
    "        resp = requests.get(url.format(row[1]['xmin'], row[1]['ymin'], row[1]['xmin'] + 4096 * 2, row[1]['ymin'] + 4096 * 2))\n",
    "        urllib.request.urlretrieve(resp.json()['href'], filename='data/' + resp.json()['href'].split('/')[-1])\n",
    "        print(row[0], time.time() - start_time)"
   ]
  }
 ],
 "metadata": {
  "kernelspec": {
   "display_name": "Python 3",
   "language": "python",
   "name": "python3"
  },
  "language_info": {
   "codemirror_mode": {
    "name": "ipython",
    "version": 3
   },
   "file_extension": ".py",
   "mimetype": "text/x-python",
   "name": "python",
   "nbconvert_exporter": "python",
   "pygments_lexer": "ipython3",
   "version": "3.4.3"
  }
 },
 "nbformat": 4,
 "nbformat_minor": 0
}
